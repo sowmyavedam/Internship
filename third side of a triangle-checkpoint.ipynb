{
 "cells": [
  {
   "cell_type": "code",
   "execution_count": 2,
   "id": "e6b17ad8",
   "metadata": {},
   "outputs": [
    {
     "name": "stdout",
     "output_type": "stream",
     "text": [
      "Please enter the length of the triangle5\n",
      "Please enter the breadth of the triangle4\n",
      "41\n"
     ]
    }
   ],
   "source": [
    "import math\n",
    "length= int(input(\"Please enter the length of the triangle\"))\n",
    "breadth=int(input(\"Please enter the breadth of the triangle\"))\n",
    "thirdsidelength=pow(length,2)+pow(breadth,2)\n",
    "print(thirdsidelength)"
   ]
  },
  {
   "cell_type": "code",
   "execution_count": null,
   "id": "f0d914b4",
   "metadata": {},
   "outputs": [],
   "source": []
  },
  {
   "cell_type": "code",
   "execution_count": null,
   "id": "d5c1391e",
   "metadata": {},
   "outputs": [],
   "source": []
  }
 ],
 "metadata": {
  "kernelspec": {
   "display_name": "Python 3 (ipykernel)",
   "language": "python",
   "name": "python3"
  },
  "language_info": {
   "codemirror_mode": {
    "name": "ipython",
    "version": 3
   },
   "file_extension": ".py",
   "mimetype": "text/x-python",
   "name": "python",
   "nbconvert_exporter": "python",
   "pygments_lexer": "ipython3",
   "version": "3.9.7"
  }
 },
 "nbformat": 4,
 "nbformat_minor": 5
}
